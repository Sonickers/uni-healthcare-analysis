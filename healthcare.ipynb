{
 "cells": [
  {
   "cell_type": "markdown",
   "id": "774afe2a-4a2b-4e0a-b597-9ca7f625141a",
   "metadata": {},
   "source": [
    "# HealthCare Analysis"
   ]
  },
  {
   "cell_type": "markdown",
   "id": "25d921d3-d022-4106-82cb-b6b34d1b8b8b",
   "metadata": {
    "jp-MarkdownHeadingCollapsed": true
   },
   "source": [
    "### Dataset:\n",
    "    https://www.kaggle.com/datasets/prasad22/healthcare-dataset\n",
    "### Legend:\n",
    "    - Age: the age of the patient at the time of admission, expressed in years.\n",
    "    - Doctor: the name of the doctor responsible for the patient's care during their admission\n",
    "    - Billing Amount: the amount of money billed for the patient's healthcare [as a floating-point number]\n",
    "    - Medication: a medication prescribed to the patient"
   ]
  },
  {
   "cell_type": "markdown",
   "id": "2a10ff3f-b5a0-4e79-9871-d8ec089c8bba",
   "metadata": {},
   "source": [
    "## Import libaries"
   ]
  },
  {
   "cell_type": "code",
   "execution_count": 1,
   "id": "1dcd6841-abe3-4513-a82f-be456736d122",
   "metadata": {},
   "outputs": [],
   "source": [
    "import pandas as pd\n",
    "import matplotlib.pyplot as plt\n",
    "import numpy as np"
   ]
  },
  {
   "cell_type": "markdown",
   "id": "23564041-2fcd-4c54-85a4-df2cb8461bdf",
   "metadata": {},
   "source": [
    "## Read and return dataset with specific columns only from a csv file"
   ]
  },
  {
   "cell_type": "code",
   "execution_count": 2,
   "id": "324105dd-f9e8-4dd2-b635-f822be762d4d",
   "metadata": {},
   "outputs": [
    {
     "data": {
      "text/html": [
       "<div>\n",
       "<style scoped>\n",
       "    .dataframe tbody tr th:only-of-type {\n",
       "        vertical-align: middle;\n",
       "    }\n",
       "\n",
       "    .dataframe tbody tr th {\n",
       "        vertical-align: top;\n",
       "    }\n",
       "\n",
       "    .dataframe thead th {\n",
       "        text-align: right;\n",
       "    }\n",
       "</style>\n",
       "<table border=\"1\" class=\"dataframe\">\n",
       "  <thead>\n",
       "    <tr style=\"text-align: right;\">\n",
       "      <th></th>\n",
       "      <th>Age</th>\n",
       "      <th>Gender</th>\n",
       "      <th>Doctor</th>\n",
       "      <th>Billing Amount</th>\n",
       "      <th>Medication</th>\n",
       "    </tr>\n",
       "  </thead>\n",
       "  <tbody>\n",
       "    <tr>\n",
       "      <th>0</th>\n",
       "      <td>81</td>\n",
       "      <td>Female</td>\n",
       "      <td>Patrick Parker</td>\n",
       "      <td>37490.983364</td>\n",
       "      <td>Aspirin</td>\n",
       "    </tr>\n",
       "    <tr>\n",
       "      <th>1</th>\n",
       "      <td>35</td>\n",
       "      <td>Male</td>\n",
       "      <td>Diane Jackson</td>\n",
       "      <td>47304.064845</td>\n",
       "      <td>Lipitor</td>\n",
       "    </tr>\n",
       "    <tr>\n",
       "      <th>2</th>\n",
       "      <td>61</td>\n",
       "      <td>Male</td>\n",
       "      <td>Paul Baker</td>\n",
       "      <td>36874.896997</td>\n",
       "      <td>Lipitor</td>\n",
       "    </tr>\n",
       "    <tr>\n",
       "      <th>3</th>\n",
       "      <td>49</td>\n",
       "      <td>Male</td>\n",
       "      <td>Brian Chandler</td>\n",
       "      <td>23303.322092</td>\n",
       "      <td>Penicillin</td>\n",
       "    </tr>\n",
       "    <tr>\n",
       "      <th>4</th>\n",
       "      <td>51</td>\n",
       "      <td>Male</td>\n",
       "      <td>Dustin Griffin</td>\n",
       "      <td>18086.344184</td>\n",
       "      <td>Paracetamol</td>\n",
       "    </tr>\n",
       "    <tr>\n",
       "      <th>5</th>\n",
       "      <td>41</td>\n",
       "      <td>Male</td>\n",
       "      <td>Robin Green</td>\n",
       "      <td>22522.363385</td>\n",
       "      <td>Aspirin</td>\n",
       "    </tr>\n",
       "    <tr>\n",
       "      <th>6</th>\n",
       "      <td>82</td>\n",
       "      <td>Male</td>\n",
       "      <td>Patricia Bishop</td>\n",
       "      <td>39593.435761</td>\n",
       "      <td>Lipitor</td>\n",
       "    </tr>\n",
       "    <tr>\n",
       "      <th>7</th>\n",
       "      <td>55</td>\n",
       "      <td>Female</td>\n",
       "      <td>Brian Kennedy</td>\n",
       "      <td>13546.817249</td>\n",
       "      <td>Aspirin</td>\n",
       "    </tr>\n",
       "    <tr>\n",
       "      <th>8</th>\n",
       "      <td>33</td>\n",
       "      <td>Male</td>\n",
       "      <td>Kristin Dunn</td>\n",
       "      <td>24903.037270</td>\n",
       "      <td>Aspirin</td>\n",
       "    </tr>\n",
       "    <tr>\n",
       "      <th>9</th>\n",
       "      <td>39</td>\n",
       "      <td>Female</td>\n",
       "      <td>Jessica Bailey</td>\n",
       "      <td>22788.236026</td>\n",
       "      <td>Aspirin</td>\n",
       "    </tr>\n",
       "  </tbody>\n",
       "</table>\n",
       "</div>"
      ],
      "text/plain": [
       "   Age  Gender           Doctor  Billing Amount   Medication\n",
       "0   81  Female   Patrick Parker    37490.983364      Aspirin\n",
       "1   35    Male    Diane Jackson    47304.064845      Lipitor\n",
       "2   61    Male       Paul Baker    36874.896997      Lipitor\n",
       "3   49    Male   Brian Chandler    23303.322092   Penicillin\n",
       "4   51    Male   Dustin Griffin    18086.344184  Paracetamol\n",
       "5   41    Male      Robin Green    22522.363385      Aspirin\n",
       "6   82    Male  Patricia Bishop    39593.435761      Lipitor\n",
       "7   55  Female    Brian Kennedy    13546.817249      Aspirin\n",
       "8   33    Male     Kristin Dunn    24903.037270      Aspirin\n",
       "9   39  Female   Jessica Bailey    22788.236026      Aspirin"
      ]
     },
     "execution_count": 2,
     "metadata": {},
     "output_type": "execute_result"
    }
   ],
   "source": [
    "dataset = pd.read_csv('healthcare_dataset.csv', usecols = ['Age', 'Gender', 'Doctor', 'Billing Amount', 'Medication'])\n",
    "dataset.head(10)"
   ]
  },
  {
   "cell_type": "code",
   "execution_count": 3,
   "id": "8f649ca5-3050-45f7-968e-7079b0c07cd5",
   "metadata": {},
   "outputs": [
    {
     "data": {
      "text/plain": [
       "Medication\n",
       "Aspirin        1968\n",
       "Ibuprofen      1976\n",
       "Lipitor        2015\n",
       "Paracetamol    1962\n",
       "Penicillin     2079\n",
       "Name: Medication, dtype: int64"
      ]
     },
     "execution_count": 3,
     "metadata": {},
     "output_type": "execute_result"
    }
   ],
   "source": [
    "sum_mediciation = dataset.groupby('Medication')['Medication'].count()\n",
    "sum_mediciation"
   ]
  },
  {
   "cell_type": "markdown",
   "id": "82df5c61-6572-4618-a9b6-87818d057569",
   "metadata": {},
   "source": [
    "## Plot for sum of medication prescriptions"
   ]
  },
  {
   "cell_type": "code",
   "execution_count": 4,
   "id": "afafdda3-5bec-45b1-86bc-1f09ac008511",
   "metadata": {},
   "outputs": [
    {
     "data": {
      "text/plain": [
       "Text(0, 0.5, 'Times prescribed')"
      ]
     },
     "execution_count": 4,
     "metadata": {},
     "output_type": "execute_result"
    },
    {
     "data": {
      "image/png": "[encoded data removed]",
      "text/plain": [
       "<Figure size 640x480 with 1 Axes>"
      ]
     },
     "metadata": {},
     "output_type": "display_data"
    }
   ],
   "source": [
    "plot_sum_meds = sum_mediciation.plot.bar(title='Sum of medication prescriptions', grid=True)\n",
    "plot_sum_meds.set_xlabel(\"Medication name\")\n",
    "plot_sum_meds.set_ylabel(\"Times prescribed\")"
   ]
  },
  {
   "cell_type": "markdown",
   "id": "b7e7be4b-8566-4d2d-9d93-1f423160cc1b",
   "metadata": {},
   "source": [
    "## Return the youngest patient"
   ]
  },
  {
   "cell_type": "code",
   "execution_count": 5,
   "id": "1b724ac0-a13f-468a-9db6-307fb72dbe5a",
   "metadata": {},
   "outputs": [
    {
     "data": {
      "text/plain": [
       "18"
      ]
     },
     "execution_count": 5,
     "metadata": {},
     "output_type": "execute_result"
    }
   ],
   "source": [
    "youngest_patient = dataset['Age'].min()\n",
    "youngest_patient"
   ]
  },
  {
   "cell_type": "markdown",
   "id": "fb40e510-74f9-4045-94a3-6d7181b00890",
   "metadata": {},
   "source": [
    "## Return the oldest patient"
   ]
  },
  {
   "cell_type": "code",
   "execution_count": 6,
   "id": "4667c455-1195-4400-84c4-c15e1d136d91",
   "metadata": {},
   "outputs": [
    {
     "data": {
      "text/plain": [
       "85"
      ]
     },
     "execution_count": 6,
     "metadata": {},
     "output_type": "execute_result"
    }
   ],
   "source": [
    "oldest_patient = dataset['Age'].max()\n",
    "oldest_patient"
   ]
  },
  {
   "cell_type": "markdown",
   "id": "6030e3c7-ac88-41a8-9cd3-a4b7d0b30353",
   "metadata": {},
   "source": [
    "## Return a sum of medications prescribed by gender"
   ]
  },
  {
   "cell_type": "code",
   "execution_count": 7,
   "id": "9d43c658-f057-49e3-b380-884c64d69492",
   "metadata": {},
   "outputs": [
    {
     "data": {
      "text/html": [
       "<div>\n",
       "<style scoped>\n",
       "    .dataframe tbody tr th:only-of-type {\n",
       "        vertical-align: middle;\n",
       "    }\n",
       "\n",
       "    .dataframe tbody tr th {\n",
       "        vertical-align: top;\n",
       "    }\n",
       "\n",
       "    .dataframe thead th {\n",
       "        text-align: right;\n",
       "    }\n",
       "</style>\n",
       "<table border=\"1\" class=\"dataframe\">\n",
       "  <thead>\n",
       "    <tr style=\"text-align: right;\">\n",
       "      <th></th>\n",
       "      <th>Medication</th>\n",
       "      <th>Gender</th>\n",
       "      <th>Sum</th>\n",
       "    </tr>\n",
       "  </thead>\n",
       "  <tbody>\n",
       "    <tr>\n",
       "      <th>0</th>\n",
       "      <td>Aspirin</td>\n",
       "      <td>Female</td>\n",
       "      <td>1011</td>\n",
       "    </tr>\n",
       "    <tr>\n",
       "      <th>1</th>\n",
       "      <td>Aspirin</td>\n",
       "      <td>Male</td>\n",
       "      <td>957</td>\n",
       "    </tr>\n",
       "    <tr>\n",
       "      <th>2</th>\n",
       "      <td>Ibuprofen</td>\n",
       "      <td>Female</td>\n",
       "      <td>999</td>\n",
       "    </tr>\n",
       "    <tr>\n",
       "      <th>3</th>\n",
       "      <td>Ibuprofen</td>\n",
       "      <td>Male</td>\n",
       "      <td>977</td>\n",
       "    </tr>\n",
       "    <tr>\n",
       "      <th>4</th>\n",
       "      <td>Lipitor</td>\n",
       "      <td>Female</td>\n",
       "      <td>1016</td>\n",
       "    </tr>\n",
       "    <tr>\n",
       "      <th>5</th>\n",
       "      <td>Lipitor</td>\n",
       "      <td>Male</td>\n",
       "      <td>999</td>\n",
       "    </tr>\n",
       "    <tr>\n",
       "      <th>6</th>\n",
       "      <td>Paracetamol</td>\n",
       "      <td>Female</td>\n",
       "      <td>1022</td>\n",
       "    </tr>\n",
       "    <tr>\n",
       "      <th>7</th>\n",
       "      <td>Paracetamol</td>\n",
       "      <td>Male</td>\n",
       "      <td>940</td>\n",
       "    </tr>\n",
       "    <tr>\n",
       "      <th>8</th>\n",
       "      <td>Penicillin</td>\n",
       "      <td>Female</td>\n",
       "      <td>1027</td>\n",
       "    </tr>\n",
       "    <tr>\n",
       "      <th>9</th>\n",
       "      <td>Penicillin</td>\n",
       "      <td>Male</td>\n",
       "      <td>1052</td>\n",
       "    </tr>\n",
       "  </tbody>\n",
       "</table>\n",
       "</div>"
      ],
      "text/plain": [
       "    Medication  Gender   Sum\n",
       "0      Aspirin  Female  1011\n",
       "1      Aspirin    Male   957\n",
       "2    Ibuprofen  Female   999\n",
       "3    Ibuprofen    Male   977\n",
       "4      Lipitor  Female  1016\n",
       "5      Lipitor    Male   999\n",
       "6  Paracetamol  Female  1022\n",
       "7  Paracetamol    Male   940\n",
       "8   Penicillin  Female  1027\n",
       "9   Penicillin    Male  1052"
      ]
     },
     "execution_count": 7,
     "metadata": {},
     "output_type": "execute_result"
    }
   ],
   "source": [
    "sum_med_by_gender = dataset.groupby(['Medication','Gender'], as_index=False).size()\n",
    "sum_med_by_gender.rename(columns = {'size':'Sum'}, inplace = True)\n",
    "sum_med_by_gender"
   ]
  },
  {
   "cell_type": "markdown",
   "id": "c7ff5aa6-f32e-4899-9011-087d210e01ab",
   "metadata": {},
   "source": [
    "## Plot for sum of every medication prescribed for female"
   ]
  },
  {
   "cell_type": "code",
   "execution_count": 8,
   "id": "f61c66cb-cc11-4030-a107-bb3d9795af34",
   "metadata": {},
   "outputs": [
    {
     "data": {
      "image/png": "[encoded data removed]",
      "text/plain": [
       "<Figure size 640x480 with 1 Axes>"
      ]
     },
     "metadata": {},
     "output_type": "display_data"
    }
   ],
   "source": [
    "for_female = sum_med_by_gender[sum_med_by_gender['Gender'] == 'Female']\n",
    "\n",
    "medication = for_female['Medication']\n",
    "sum = for_female['Sum']\n",
    "sum_meds_female = plt.bar(medication, sum)\n",
    "plt.grid(True)"
   ]
  },
  {
   "cell_type": "markdown",
   "id": "32ce4322-be1b-48f4-966b-d3f89ce316bf",
   "metadata": {},
   "source": [
    "## Plot for sum of every medication prescribed for male"
   ]
  },
  {
   "cell_type": "code",
   "execution_count": 9,
   "id": "3940cf17-282f-4b49-a3e0-e36bfc84540e",
   "metadata": {},
   "outputs": [
    {
     "data": {
      "image/png": "[encoded data removed]",
      "text/plain": [
       "<Figure size 640x480 with 1 Axes>"
      ]
     },
     "metadata": {},
     "output_type": "display_data"
    }
   ],
   "source": [
    "for_male = sum_med_by_gender[sum_med_by_gender['Gender'] == 'Male']\n",
    "\n",
    "medication = for_male['Medication']\n",
    "sum = for_male['Sum']\n",
    "sum_meds_male = plt.bar(medication, sum)\n",
    "plt.grid(True)"
   ]
  }
 ],
 "metadata": {
  "kernelspec": {
   "display_name": "Python 3 (ipykernel)",
   "language": "python",
   "name": "python3"
  },
  "language_info": {
   "codemirror_mode": {
    "name": "ipython",
    "version": 3
   },
   "file_extension": ".py",
   "mimetype": "text/x-python",
   "name": "python",
   "nbconvert_exporter": "python",
   "pygments_lexer": "ipython3",
   "version": "3.11.0"
  }
 },
 "nbformat": 4,
 "nbformat_minor": 5
}
